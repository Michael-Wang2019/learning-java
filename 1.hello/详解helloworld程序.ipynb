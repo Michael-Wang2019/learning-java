{
 "cells": [
  {
   "cell_type": "markdown",
   "metadata": {},
   "source": [
    "## 详解helloworld程序"
   ]
  },
  {
   "cell_type": "code",
   "execution_count": null,
   "metadata": {},
   "outputs": [],
   "source": [
    "public class HelloWorld{\n",
    "    public static void main(String[] args)\n",
    "    {\n",
    "        System.out.println(\"hello world!\");\n",
    "    }\n",
    "}"
   ]
  },
  {
   "cell_type": "markdown",
   "metadata": {},
   "source": [
    "- class --类  \n",
    "- helloWorld --是类名\n",
    "- public class --告诉java类名要与代码文件名一致\n",
    "- 大括号内是类的内容\n"
   ]
  },
  {
   "cell_type": "markdown",
   "metadata": {},
   "source": [
    "#### main方法(main method)语法元素"
   ]
  },
  {
   "cell_type": "markdown",
   "metadata": {},
   "source": [
    "- public static void main(String[] args) --main 方法的定义。是程序入口，就是程序开始执行的地方。\n",
    "- 大括号内是方法的内容，又成为方法体(method body)\n",
    "- main方法最为特殊的一点是，它是java程序的入口"
   ]
  },
  {
   "cell_type": "markdown",
   "metadata": {},
   "source": [
    "#### System.out.println"
   ]
  },
  {
   "cell_type": "markdown",
   "metadata": {},
   "source": [
    "- System.out.println 是java提供的内置功能，可以将内容输出。\n",
    "- 小括号里的内容是参数(parameter)\n",
    "- 没有参数的情况下，System.out.println()会输出一行空行。"
   ]
  },
  {
   "cell_type": "markdown",
   "metadata": {},
   "source": [
    "> 关键知识点\n",
    "- class后面的名字是类名\n",
    "- 类名必须与源文件的文件名相同，文件名后缀必须是小写的java\n",
    "- main方法是java程序执行的入口"
   ]
  }
 ],
 "metadata": {
  "kernelspec": {
   "display_name": "Python 3",
   "language": "python",
   "name": "python3"
  },
  "language_info": {
   "codemirror_mode": {
    "name": "ipython",
    "version": 3
   },
   "file_extension": ".py",
   "mimetype": "text/x-python",
   "name": "python",
   "nbconvert_exporter": "python",
   "pygments_lexer": "ipython3",
   "version": "3.6.5"
  },
  "toc": {
   "base_numbering": 1,
   "nav_menu": {},
   "number_sections": true,
   "sideBar": true,
   "skip_h1_title": false,
   "title_cell": "Table of Contents",
   "title_sidebar": "Contents",
   "toc_cell": false,
   "toc_position": {},
   "toc_section_display": true,
   "toc_window_display": true
  }
 },
 "nbformat": 4,
 "nbformat_minor": 2
}
