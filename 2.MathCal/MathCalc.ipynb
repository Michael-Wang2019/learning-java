{
 "cells": [
  {
   "cell_type": "markdown",
   "metadata": {},
   "source": [
    "### 从加减乘除到变量"
   ]
  },
  {
   "cell_type": "code",
   "execution_count": null,
   "metadata": {},
   "outputs": [],
   "source": [
    "public class Variable {\n",
    "    public static void main(String[ ] args){\n",
    "        int a = 3;\n",
    "        int b = 5;\n",
    "        int c = 7;\n",
    "\n",
    "        int x = 9;\n",
    "\n",
    "        int y = a*x + b*x*x +c*x*x*x;\n",
    "\n",
    "        System.out.println(y);\n",
    "    }\n",
    "}\n"
   ]
  },
  {
   "cell_type": "markdown",
   "metadata": {},
   "source": [
    "#### 基本数据类型--int"
   ]
  },
  {
   "cell_type": "markdown",
   "metadata": {},
   "source": [
    "int用来表示一个整数，取值范围在-2^31~2~31-1。计算出来是-2147483648～2147483647."
   ]
  },
  {
   "cell_type": "markdown",
   "metadata": {},
   "source": [
    "#### 关键字(key word)和标示符(Identifier)\n"
   ]
  },
  {
   "cell_type": "markdown",
   "metadata": {},
   "source": [
    ">标示符：\n",
    "- 由大小写英文字符，数字和下划线组成的，区分大小写的，不以数字开头的文字。\n",
    "- 可以用作java中的各种东西的名字，比如类名，方法名等。\n",
    "- 标示符是区分大小写的。"
   ]
  },
  {
   "cell_type": "markdown",
   "metadata": {},
   "source": [
    "*关键字是java语法的保留字，不能用来做名字 *  \n",
    "> 关键字有：\n",
    "- public\n",
    "- class\n",
    "- static\n",
    "- void\n",
    "- int"
   ]
  },
  {
   "cell_type": "markdown",
   "metadata": {},
   "source": [
    "#### 用变量解决问题\n",
    "- 变量(variable)\n",
    "- 如何创建变量\n",
    "- 如何给变量一个值\n",
    "- 如何使用变量"
   ]
  },
  {
   "cell_type": "markdown",
   "metadata": {},
   "source": [
    "### java中的基本数据类型"
   ]
  },
  {
   "cell_type": "code",
   "execution_count": null,
   "metadata": {},
   "outputs": [],
   "source": [
    "public class BigNumber {\n",
    "    public static void main(String[] args) {\n",
    "        System.out.println(1>2);\n",
    "        System.out.println(1<2);\n",
    "\n",
    "        System.out.println(\"abc\");\n",
    "        byte byteVar = 99;\n",
    "        System.out.println(byteVar);\n",
    "        short shortVar = -3000;\n",
    "        System.out.println(shortVar);\n",
    "\n",
    "        int intVar = 300000;\n",
    "        System.out.println(intVar);\n",
    "\n",
    "        long longVar = 99;\n",
    "        long bigLongVar = 99999999999L;\n",
    "        System.out.println(bigLongVar);\n",
    "\n",
    "        float floatVar = 100.1111111f;\n",
    "        System.out.println(floatVar);\n",
    "\n",
    "        double doubleVar = 100.1111111;\n",
    "        System.out.println(doubleVar);\n",
    "\n",
    "        boolean condition = false;\n",
    "        System.out.println(condition);\n",
    "\n",
    "        char ch = 'A';\n",
    "        System.out.println(ch);\n",
    "    }\n",
    "}\n"
   ]
  },
  {
   "cell_type": "markdown",
   "metadata": {},
   "source": [
    "> 认识二进制\n",
    "- 十进制  \n",
    "每一位可以是0～9这10个值，到10进位。\n",
    "- 二进制  \n",
    "每一位可以是0和1这两个值，到2进位。10=1010，100=1100100\n",
    "- 十六进制  \n",
    "每一位可以是0～F这16个值，到16进位。10=A，100=64.\n",
    "- bit和byte  \n",
    "一个二进制的位叫做一个bit.网络宽带的单位，都是bit.    \n",
    "八进制的位，组成一个byte.硬盘等存储的单位，都是byte.  \n",
    "byte都是计算机中基本的衡量储存的单位，计算机在对外使用时，不会用bit作为划分存储的单位。"
   ]
  },
  {
   "cell_type": "markdown",
   "metadata": {},
   "source": [
    "![1](1.png)"
   ]
  },
  {
   "cell_type": "markdown",
   "metadata": {},
   "source": [
    "- 布尔和字符数据类型\n",
    "boolean占用1个byte,值域是true,false.  \n",
    "char占用2个byte,值域是所有字符。"
   ]
  },
  {
   "cell_type": "markdown",
   "metadata": {},
   "source": [
    "#### java中的运算符"
   ]
  },
  {
   "cell_type": "markdown",
   "metadata": {},
   "source": [
    "##### 运算符"
   ]
  },
  {
   "cell_type": "markdown",
   "metadata": {},
   "source": [
    "![2](2.png)"
   ]
  },
  {
   "cell_type": "code",
   "execution_count": null,
   "metadata": {},
   "outputs": [],
   "source": [
    "public class OprtNotChangeVariableValue {\n",
    "    public static void main(String[] args){\n",
    "        int a =100;\n",
    "\n",
    "        System.out.println(a + 1);\n",
    "\n",
    "        System.out.println(a);\n",
    "\n",
    "        a = a + 6;\n",
    "        System.out.println(a);\n",
    "    }\n",
    "}\n"
   ]
  },
  {
   "cell_type": "markdown",
   "metadata": {},
   "source": [
    "##### 取模"
   ]
  },
  {
   "cell_type": "markdown",
   "metadata": {},
   "source": [
    "![3](3.png)"
   ]
  },
  {
   "cell_type": "code",
   "execution_count": null,
   "metadata": {},
   "outputs": [],
   "source": [
    "public class ModCalc {\n",
    "    public static void main(String[] args) {\n",
    "//        int num = 10;\n",
    "        int num = -10;\n",
    "\n",
    "        System.out.println(num % 2);\n",
    "        System.out.println(num % -3);\n",
    "        System.out.println(num % 4);\n",
    "        System.out.println(num % 5);\n",
    "        System.out.println(num % -6);\n",
    "    }\n",
    "}\n"
   ]
  },
  {
   "cell_type": "markdown",
   "metadata": {},
   "source": [
    "##### 比较运算符"
   ]
  },
  {
   "cell_type": "markdown",
   "metadata": {},
   "source": [
    "![4](4.png)"
   ]
  },
  {
   "cell_type": "code",
   "execution_count": null,
   "metadata": {},
   "outputs": [],
   "source": [
    "public class CompareOprt {\n",
    "    public static void main(String[] args){\n",
    "        int a = 10;\n",
    "        int b = 15;\n",
    "        int c = 10;\n",
    "\n",
    "        System.out.println(a > b);\n",
    "        System.out.println(a >= b);\n",
    "        System.out.println(a < b);\n",
    "        System.out.println(a <= b);\n",
    "        System.out.println(a != b);\n",
    "        System.out.println(\"~~~~~~~~~~~~~~~\" );\n",
    "\n",
    "        System.out.println(a != c);\n",
    "        System.out.println(a >= c);\n",
    "        System.out.println(a <= c);\n",
    "        System.out.println(a == b);\n",
    "        System.out.println(a == c);\n",
    "    }\n",
    "}\n"
   ]
  },
  {
   "cell_type": "markdown",
   "metadata": {},
   "source": [
    "![5](5.png)"
   ]
  }
 ],
 "metadata": {
  "kernelspec": {
   "display_name": "Python 3",
   "language": "python",
   "name": "python3"
  },
  "language_info": {
   "codemirror_mode": {
    "name": "ipython",
    "version": 3
   },
   "file_extension": ".py",
   "mimetype": "text/x-python",
   "name": "python",
   "nbconvert_exporter": "python",
   "pygments_lexer": "ipython3",
   "version": "3.6.5"
  },
  "toc": {
   "base_numbering": 1,
   "nav_menu": {},
   "number_sections": true,
   "sideBar": true,
   "skip_h1_title": false,
   "title_cell": "Table of Contents",
   "title_sidebar": "Contents",
   "toc_cell": false,
   "toc_position": {},
   "toc_section_display": true,
   "toc_window_display": false
  }
 },
 "nbformat": 4,
 "nbformat_minor": 2
}
